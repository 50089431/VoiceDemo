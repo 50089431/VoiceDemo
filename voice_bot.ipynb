{
 "cells": [
  {
   "cell_type": "code",
   "execution_count": 9,
   "metadata": {},
   "outputs": [],
   "source": [
    "# !pip install azure-cognitiveservices-speech\n",
    "# !pip install azure-search-documents\n",
    "# !pip install openai\n",
    "# !pip install fastapi uvicorn\n",
    "# !pip install ipywidgets\n",
    "\n"
   ]
  },
  {
   "cell_type": "code",
   "execution_count": 8,
   "metadata": {},
   "outputs": [],
   "source": [
    "import azure.cognitiveservices.speech as speechsdk\n",
    "from openai import AzureOpenAI\n",
    "from azure.search.documents import SearchClient\n",
    "from azure.search.documents.models import QueryType\n",
    "import ipywidgets as widgets\n",
    "from IPython.display import display, Audio"
   ]
  },
  {
   "cell_type": "code",
   "execution_count": 16,
   "metadata": {},
   "outputs": [],
   "source": [
    "# Azure Configuration\n",
    "AZURE_SPEECH_KEY = \"13Dmw7ZFBYRuwq7xyrFA8pzx3J2ZMDaO3vRWV883FtFm6Lgq5FtaJQQJ99BBACYeBjFXJ3w3AAAYACOGJDGr\"\n",
    "AZURE_SPEECH_REGION = \"eastus\"\n",
    "AZURE_SEARCH_SERVICE = \"testaisearchmctltfs030225\"\n",
    "AZURE_SEARCH_INDEX = \"loan-documents-index\"\n",
    "AZURE_SEARCH_KEY = \"X5ayCxEXO3KNEKDgUp6hn466Gd7iDsukNQujhRfXV2AzSeDNKv8a\"\n",
    "AZURE_OPENAI_KEY = \"55FnF6s4J4OywbWkhBg75P6iFekRErJK3IYW40zlwD5EfUnFoH5MJQQJ99BBACHYHv6XJ3w3AAABACOGEtm9\"\n",
    "AZURE_OPENAI_ENDPOINT = \"https://demoopenairesource.openai.azure.com/\"\n",
    "AZURE_DEPLOYMENT_NAME = \"gpt-4o-realtime-preview\"\n",
    "AZURE_OPENAI_API_VERSION=\"2024-10-01-preview\"\n"
   ]
  },
  {
   "cell_type": "code",
   "execution_count": 14,
   "metadata": {},
   "outputs": [],
   "source": [
    "# Initialize Azure AI Clients\n",
    "openai_client = AzureOpenAI(\n",
    "    api_key=AZURE_OPENAI_KEY,\n",
    "    azure_endpoint=AZURE_OPENAI_ENDPOINT,\n",
    "    api_version = AZURE_OPENAI_API_VERSION\n",
    "    # deployment=AZURE_DEPLOYMENT_NAME\n",
    ")\n",
    "\n",
    "search_client = SearchClient(\n",
    "    endpoint=f\"https://{AZURE_SEARCH_SERVICE}.search.windows.net\",\n",
    "    index_name=AZURE_SEARCH_INDEX,\n",
    "    credential=AZURE_SEARCH_KEY\n",
    ")\n",
    "\n",
    "# Conversation Memory\n",
    "conversation_history = []"
   ]
  },
  {
   "cell_type": "code",
   "execution_count": 17,
   "metadata": {},
   "outputs": [],
   "source": [
    "def speech_to_text():\n",
    "    speech_config = speechsdk.SpeechConfig(subscription=AZURE_SPEECH_KEY, region=AZURE_SPEECH_REGION)\n",
    "    speech_recognizer = speechsdk.SpeechRecognizer(speech_config=speech_config)\n",
    "    \n",
    "    print(\"Listening for input...\")\n",
    "    result = speech_recognizer.recognize_once()\n",
    "    \n",
    "    if result.reason == speechsdk.ResultReason.RecognizedSpeech:\n",
    "        return result.text\n",
    "    elif result.reason == speechsdk.ResultReason.NoMatch:\n",
    "        return \"I didn't understand. Please try again.\"\n",
    "    else:\n",
    "        return \"Speech recognition failed.\"\n"
   ]
  },
  {
   "cell_type": "code",
   "execution_count": 18,
   "metadata": {},
   "outputs": [],
   "source": [
    "def search_knowledge_base(query):\n",
    "    results = search_client.search(query, query_type=QueryType.SEMANTIC)\n",
    "    docs = [doc['content'] for doc in results]\n",
    "    return \" \".join(docs[:3]) if docs else \"No relevant information found.\"\n"
   ]
  },
  {
   "cell_type": "code",
   "execution_count": 19,
   "metadata": {},
   "outputs": [],
   "source": [
    "def generate_response(user_input):\n",
    "    conversation_history.append(f\"User: {user_input}\")\n",
    "    \n",
    "    context = search_knowledge_base(user_input)\n",
    "    prompt = f\"Context: {context}\\nUser: {user_input}\\nAI:\"\n",
    "    \n",
    "    response = openai_client.completions.create(\n",
    "        model=AZURE_DEPLOYMENT_NAME,\n",
    "        prompt=prompt,\n",
    "        max_tokens=200\n",
    "    )\n",
    "    \n",
    "    ai_response = response.choices[0].text.strip()\n",
    "    conversation_history.append(f\"AI: {ai_response}\")\n",
    "    return ai_response\n"
   ]
  },
  {
   "cell_type": "code",
   "execution_count": 20,
   "metadata": {},
   "outputs": [],
   "source": [
    "def text_to_speech(response_text):\n",
    "    \n",
    "    speech_config = speechsdk.SpeechConfig(subscription=AZURE_SPEECH_KEY, region=AZURE_SPEECH_REGION)\n",
    "    audio_config = speechsdk.audio.AudioOutputConfig(filename=\"response.wav\")\n",
    "    \n",
    "    synthesizer = speechsdk.SpeechSynthesizer(speech_config=speech_config, audio_config=audio_config)\n",
    "    synthesizer.speak_text_async(response_text).get()\n",
    "\n",
    "    # Play audio in Jupyter Notebook\n",
    "    return Audio(\"response.wav\", autoplay=True)\n"
   ]
  },
  {
   "cell_type": "code",
   "execution_count": 23,
   "metadata": {},
   "outputs": [],
   "source": [
    "def chat_loop():\n",
    "    while True:\n",
    "        user_input = speech_to_text()\n",
    "        if \"exit\" in user_input.lower():\n",
    "            print(\"Ending conversation.\")\n",
    "            break\n",
    "\n",
    "        response = generate_response(user_input)\n",
    "        print(f\"Bot: {response}\")\n",
    "        text_to_speech(response)\n"
   ]
  },
  {
   "cell_type": "code",
   "execution_count": 24,
   "metadata": {},
   "outputs": [
    {
     "ename": "NameError",
     "evalue": "name 'app' is not defined",
     "output_type": "error",
     "traceback": [
      "\u001b[0;31m---------------------------------------------------------------------------\u001b[0m",
      "\u001b[0;31mNameError\u001b[0m                                 Traceback (most recent call last)",
      "Cell \u001b[0;32mIn[24], line 1\u001b[0m\n\u001b[0;32m----> 1\u001b[0m \u001b[38;5;129m@app\u001b[39m\u001b[38;5;241m.\u001b[39mpost(\u001b[38;5;124m\"\u001b[39m\u001b[38;5;124m/chat\u001b[39m\u001b[38;5;124m\"\u001b[39m)\n\u001b[1;32m      2\u001b[0m \u001b[38;5;28;01masync\u001b[39;00m \u001b[38;5;28;01mdef\u001b[39;00m\u001b[38;5;250m \u001b[39m\u001b[38;5;21mchat\u001b[39m():\n\u001b[1;32m      3\u001b[0m     user_input \u001b[38;5;241m=\u001b[39m speech_to_text()\n\u001b[1;32m      4\u001b[0m     response \u001b[38;5;241m=\u001b[39m generate_response(user_input)\n",
      "\u001b[0;31mNameError\u001b[0m: name 'app' is not defined"
     ]
    }
   ],
   "source": [
    "@app.post(\"/chat\")\n",
    "async def chat():\n",
    "    user_input = speech_to_text()\n",
    "    response = generate_response(user_input)\n",
    "    text_to_speech(response)\n",
    "    return {\"response\": response}\n"
   ]
  },
  {
   "cell_type": "code",
   "execution_count": 22,
   "metadata": {},
   "outputs": [
    {
     "data": {
      "application/vnd.jupyter.widget-view+json": {
       "model_id": "8247a7126bba4d858ef18f1b521b27a6",
       "version_major": 2,
       "version_minor": 0
      },
      "text/plain": [
       "Button(description='Start Voice Chat', style=ButtonStyle())"
      ]
     },
     "metadata": {},
     "output_type": "display_data"
    },
    {
     "data": {
      "application/vnd.jupyter.widget-view+json": {
       "model_id": "ccec44ca318343ffb1a2df3b7b7d923c",
       "version_major": 2,
       "version_minor": 0
      },
      "text/plain": [
       "Output()"
      ]
     },
     "metadata": {},
     "output_type": "display_data"
    }
   ],
   "source": [
    "# # Widgets for Jupyter Interaction\n",
    "# start_button = widgets.Button(description=\"Start Voice Chat\")\n",
    "# output_area = widgets.Output()\n",
    "\n",
    "# def on_button_click(b):\n",
    "#     with output_area:\n",
    "#         print(\"🎤 Listening...\")\n",
    "#         user_input = speech_to_text()\n",
    "        \n",
    "#         print(f\"🗣️ User: {user_input}\")\n",
    "#         response = generate_response(user_input)\n",
    "        \n",
    "#         print(f\"🤖 AI: {response}\")\n",
    "#         display(text_to_speech(response))\n",
    "\n",
    "# start_button.on_click(on_button_click)\n",
    "\n",
    "# display(start_button, output_area)\n"
   ]
  },
  {
   "cell_type": "code",
   "execution_count": null,
   "metadata": {},
   "outputs": [],
   "source": []
  }
 ],
 "metadata": {
  "kernelspec": {
   "display_name": "azure_env",
   "language": "python",
   "name": "python3"
  },
  "language_info": {
   "codemirror_mode": {
    "name": "ipython",
    "version": 3
   },
   "file_extension": ".py",
   "mimetype": "text/x-python",
   "name": "python",
   "nbconvert_exporter": "python",
   "pygments_lexer": "ipython3",
   "version": "3.10.16"
  }
 },
 "nbformat": 4,
 "nbformat_minor": 2
}
