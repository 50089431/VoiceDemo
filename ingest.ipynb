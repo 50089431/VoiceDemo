{
 "cells": [
  {
   "cell_type": "code",
   "execution_count": 49,
   "metadata": {},
   "outputs": [
    {
     "name": "stdout",
     "output_type": "stream",
     "text": [
      "\n",
      "\u001b[1m[\u001b[0m\u001b[34;49mnotice\u001b[0m\u001b[1;39;49m]\u001b[0m\u001b[39;49m A new release of pip is available: \u001b[0m\u001b[31;49m24.3.1\u001b[0m\u001b[39;49m -> \u001b[0m\u001b[32;49m25.0\u001b[0m\n",
      "\u001b[1m[\u001b[0m\u001b[34;49mnotice\u001b[0m\u001b[1;39;49m]\u001b[0m\u001b[39;49m To update, run: \u001b[0m\u001b[32;49mpython -m pip install --upgrade pip\u001b[0m\n",
      "Note: you may need to restart the kernel to use updated packages.\n",
      "\n",
      "\u001b[1m[\u001b[0m\u001b[34;49mnotice\u001b[0m\u001b[1;39;49m]\u001b[0m\u001b[39;49m A new release of pip is available: \u001b[0m\u001b[31;49m24.3.1\u001b[0m\u001b[39;49m -> \u001b[0m\u001b[32;49m25.0\u001b[0m\n",
      "\u001b[1m[\u001b[0m\u001b[34;49mnotice\u001b[0m\u001b[1;39;49m]\u001b[0m\u001b[39;49m To update, run: \u001b[0m\u001b[32;49mpython -m pip install --upgrade pip\u001b[0m\n",
      "Note: you may need to restart the kernel to use updated packages.\n"
     ]
    }
   ],
   "source": [
    "%pip install --upgrade --quiet  azure-search-documents\n",
    "%pip install --upgrade --quiet  azure-identity"
   ]
  },
  {
   "cell_type": "code",
   "execution_count": 50,
   "metadata": {},
   "outputs": [],
   "source": [
    "import os\n",
    "from langchain_community.vectorstores.azuresearch import AzureSearch\n",
    "from langchain_openai import AzureOpenAIEmbeddings, OpenAIEmbeddings\n",
    "from langchain_community.document_loaders import PyPDFLoader\n",
    "from langchain_text_splitters import CharacterTextSplitter, RecursiveCharacterTextSplitter"
   ]
  },
  {
   "cell_type": "code",
   "execution_count": 51,
   "metadata": {},
   "outputs": [],
   "source": [
    "azure_endpoint: str = \"https://demoopenairesource.openai.azure.com/\"\n",
    "azure_openai_api_key: str = \"55FnF6s4J4OywbWkhBg75P6iFekRErJK3IYW40zlwD5EfUnFoH5MJQQJ99BBACHYHv6XJ3w3AAABACOGEtm9\"\n",
    "azure_openai_api_version: str = \"2023-05-15\"\n",
    "azure_deployment: str = \"text-embedding-3-small\""
   ]
  },
  {
   "cell_type": "code",
   "execution_count": 52,
   "metadata": {},
   "outputs": [],
   "source": [
    "loader = PyPDFLoader(\"2WPolicy.pdf\")\n",
    "documents = loader.load()\n",
    "text_splitter = RecursiveCharacterTextSplitter(chunk_size=500, chunk_overlap=50)\n",
    "docs = text_splitter.split_documents(documents)"
   ]
  },
  {
   "cell_type": "code",
   "execution_count": 53,
   "metadata": {},
   "outputs": [],
   "source": [
    "embeddings: AzureOpenAIEmbeddings = AzureOpenAIEmbeddings(\n",
    "    azure_deployment=azure_deployment,\n",
    "    openai_api_version=azure_openai_api_version,\n",
    "    azure_endpoint=azure_endpoint,\n",
    "    api_key=azure_openai_api_key,\n",
    ")\n",
    "\n",
    "vector_data = [\n",
    "    {\"id\": str(i), \"content\": chunk.page_content, \"vector\": embeddings.embed_query(chunk.page_content)}\n",
    "    for i, chunk in enumerate(docs)\n",
    "]\n"
   ]
  },
  {
   "cell_type": "code",
   "execution_count": 54,
   "metadata": {},
   "outputs": [
    {
     "data": {
      "text/plain": [
       "(13, 1536)"
      ]
     },
     "execution_count": 54,
     "metadata": {},
     "output_type": "execute_result"
    }
   ],
   "source": [
    "len(vector_data), len(vector_data[0]['vector'])"
   ]
  },
  {
   "cell_type": "code",
   "execution_count": 55,
   "metadata": {},
   "outputs": [],
   "source": [
    "vector_store_address: str = \"https://testaisearchmctltfs030225.search.windows.net\"\n",
    "vector_store_password: str = \"X5ayCxEXO3KNEKDgUp6hn466Gd7iDsukNQujhRfXV2AzSeDNKv8a\""
   ]
  },
  {
   "cell_type": "code",
   "execution_count": 56,
   "metadata": {},
   "outputs": [],
   "source": [
    "index_name: str = \"two-weheeler-policy-index\"\n",
    "vector_store: AzureSearch = AzureSearch(\n",
    "    azure_search_endpoint=vector_store_address,\n",
    "    azure_search_key=vector_store_password,\n",
    "    index_name=index_name,\n",
    "    embedding_function=embeddings.embed_query,\n",
    ")"
   ]
  },
  {
   "cell_type": "code",
   "execution_count": 57,
   "metadata": {},
   "outputs": [
    {
     "data": {
      "text/plain": [
       "'two-weheeler-policy-index'"
      ]
     },
     "execution_count": 57,
     "metadata": {},
     "output_type": "execute_result"
    }
   ],
   "source": [
    "index_name"
   ]
  },
  {
   "cell_type": "code",
   "execution_count": 58,
   "metadata": {},
   "outputs": [],
   "source": [
    "# # Specify additional properties for the Azure client such as the following https://github.com/Azure/azure-sdk-for-python/blob/main/sdk/core/azure-core/README.md#configurations\n",
    "# vector_store: AzureSearch = AzureSearch(\n",
    "#     azure_search_endpoint=vector_store_address,\n",
    "#     azure_search_key=vector_store_password,\n",
    "#     index_name=index_name,\n",
    "#     embedding_function=embeddings.embed_query,\n",
    "#     # Configure max retries for the Azure client\n",
    "#     additional_search_client_options={\"retry_total\": 4},\n",
    "# )"
   ]
  },
  {
   "cell_type": "code",
   "execution_count": 59,
   "metadata": {},
   "outputs": [],
   "source": [
    "# vector_store.client.delete_documents(keys=[index_name])"
   ]
  },
  {
   "cell_type": "code",
   "execution_count": 60,
   "metadata": {},
   "outputs": [
    {
     "data": {
      "text/plain": [
       "[<azure.search.documents._generated.models._models_py3.IndexingResult at 0x707c1714df10>,\n",
       " <azure.search.documents._generated.models._models_py3.IndexingResult at 0x707c1714e090>,\n",
       " <azure.search.documents._generated.models._models_py3.IndexingResult at 0x707c1714e5d0>,\n",
       " <azure.search.documents._generated.models._models_py3.IndexingResult at 0x707c1714dac0>,\n",
       " <azure.search.documents._generated.models._models_py3.IndexingResult at 0x707c1714e5a0>,\n",
       " <azure.search.documents._generated.models._models_py3.IndexingResult at 0x707c1714e300>,\n",
       " <azure.search.documents._generated.models._models_py3.IndexingResult at 0x707c1714dd00>,\n",
       " <azure.search.documents._generated.models._models_py3.IndexingResult at 0x707c1714d7c0>,\n",
       " <azure.search.documents._generated.models._models_py3.IndexingResult at 0x707c1714d700>,\n",
       " <azure.search.documents._generated.models._models_py3.IndexingResult at 0x707c1714df40>,\n",
       " <azure.search.documents._generated.models._models_py3.IndexingResult at 0x707c1714deb0>,\n",
       " <azure.search.documents._generated.models._models_py3.IndexingResult at 0x707c1714dfd0>,\n",
       " <azure.search.documents._generated.models._models_py3.IndexingResult at 0x707c1714e1b0>]"
      ]
     },
     "execution_count": 60,
     "metadata": {},
     "output_type": "execute_result"
    }
   ],
   "source": [
    "import json\n",
    "\n",
    "# Convert documents to vector format\n",
    "vector_data = [\n",
    "    {\n",
    "        \"id\": str(i),  # Unique ID for each document\n",
    "        \"content\": doc.page_content,  # Original text for keyword search\n",
    "        \"vector\": embeddings.embed_query(doc.page_content),  # Embedding vector\n",
    "    }\n",
    "    for i, doc in enumerate(docs)  # docs is your list of Document objects\n",
    "]\n",
    "\n",
    "# Now upload vector_data instead of docs\n",
    "vector_store.client.upload_documents(documents=vector_data)"
   ]
  },
  {
   "cell_type": "code",
   "execution_count": 61,
   "metadata": {},
   "outputs": [],
   "source": [
    "# vector_store.add_documents(documents=vector_data)"
   ]
  },
  {
   "cell_type": "code",
   "execution_count": 62,
   "metadata": {},
   "outputs": [],
   "source": [
    "# vector_data"
   ]
  },
  {
   "cell_type": "markdown",
   "metadata": {},
   "source": [
    "### CSV Data"
   ]
  },
  {
   "cell_type": "code",
   "execution_count": null,
   "metadata": {},
   "outputs": [],
   "source": []
  },
  {
   "cell_type": "code",
   "execution_count": 64,
   "metadata": {},
   "outputs": [],
   "source": [
    "from datetime import datetime\n",
    "\n",
    "def convert_to_iso(date_str):\n",
    "    \"\"\"Convert 'DD-MMM-YYYY' to 'YYYY-MM-DDT00:00:00Z'\"\"\"\n",
    "    try:\n",
    "        return datetime.strptime(date_str, \"%d-%b-%Y\").strftime(\"%Y-%m-%dT00:00:00Z\")\n",
    "    except ValueError:\n",
    "        return None  # Handle invalid dates"
   ]
  },
  {
   "cell_type": "code",
   "execution_count": 65,
   "metadata": {},
   "outputs": [],
   "source": [
    "data = [\n",
    "    {\n",
    "        \"agreement_number\": \"AG12345\",\n",
    "        \"customer_name\": \"Rajesh Kumar\",\n",
    "        \"contact_number\": \"9876543210\",\n",
    "        \"emi_due\": \"3500\",\n",
    "        \"last_emi_due_date\": convert_to_iso(\"03-Feb-2025\"),\n",
    "        \"last_emi_status\": \"Paid\",\n",
    "        \"last_emi_paid_date\": convert_to_iso(\"03-Feb-2025\"),\n",
    "        \"next_emi_due_date\": convert_to_iso(\"03-Mar-2025\"),\n",
    "        \"outstanding_amount\": \"25000\"\n",
    "    },\n",
    "    {\n",
    "        \"agreement_number\": \"AG67890\",\n",
    "        \"customer_name\": \"Priya Sharma\",\n",
    "        \"contact_number\": \"9823456789\",\n",
    "        \"emi_due\": \"2800\",\n",
    "        \"last_emi_due_date\": convert_to_iso(\"03-Feb-2025\"),\n",
    "        \"last_emi_status\": \"Pending\",\n",
    "        \"last_emi_paid_date\": convert_to_iso(\"10-Jan-2025\"),\n",
    "        \"next_emi_due_date\": convert_to_iso(\"03-Mar-2025\"),\n",
    "        \"outstanding_amount\": \"18000\"\n",
    "    },\n",
    "    {\n",
    "        \"agreement_number\": \"AG13579\",\n",
    "        \"customer_name\": \"Aditi\",\n",
    "        \"contact_number\": \"123456\",\n",
    "        \"emi_due\": \"1500\",\n",
    "        \"last_emi_due_date\": convert_to_iso(\"03-Feb-2025\"),\n",
    "        \"last_emi_status\": \"Pending\",\n",
    "        \"last_emi_paid_date\":convert_to_iso(\"03-Dec-2024\"),\n",
    "        \"next_emi_due_date\": convert_to_iso(\"03-Mar-2025\"),\n",
    "        \"outstanding_amount\": \"25000\"\n",
    "    }\n",
    "]\n"
   ]
  },
  {
   "cell_type": "code",
   "execution_count": 68,
   "metadata": {},
   "outputs": [
    {
     "data": {
      "text/plain": [
       "[<azure.search.documents._generated.models._models_py3.IndexingResult at 0x707c1714e4e0>,\n",
       " <azure.search.documents._generated.models._models_py3.IndexingResult at 0x707c1714da60>,\n",
       " <azure.search.documents._generated.models._models_py3.IndexingResult at 0x707c1714d0a0>]"
      ]
     },
     "execution_count": 68,
     "metadata": {},
     "output_type": "execute_result"
    }
   ],
   "source": [
    "import json\n",
    "from langchain_community.vectorstores import AzureSearch\n",
    "\n",
    "# Define your vector store (Ensure correct credentials)\n",
    "index_name = \"loan-index\"\n",
    "vector_store = AzureSearch(\n",
    "    azure_search_endpoint=vector_store_address,\n",
    "    azure_search_key=vector_store_password,\n",
    "    index_name=index_name,\n",
    "    embedding_function=embeddings.embed_query,\n",
    ")\n",
    "\n",
    "# Uploading Data (List of Dicts, Not JSON String)\n",
    "vector_store.client.upload_documents(documents=data)  # ✅ Uploads correctly\n"
   ]
  },
  {
   "cell_type": "code",
   "execution_count": null,
   "metadata": {},
   "outputs": [],
   "source": []
  },
  {
   "cell_type": "code",
   "execution_count": 72,
   "metadata": {},
   "outputs": [
    {
     "name": "stdout",
     "output_type": "stream",
     "text": [
      "['agreement_number', 'customer_name', 'contact_number', 'emi_due', 'last_emi_due_date', 'last_emi_status', 'last_emi_paid_date', 'next_emi_due_date', 'outstanding_amount']\n"
     ]
    }
   ],
   "source": [
    "from azure.search.documents.indexes import SearchIndexClient\n",
    "from azure.core.credentials import AzureKeyCredential\n",
    "\n",
    "# Azure Search Config\n",
    "search_client = SearchIndexClient(\n",
    "    endpoint=os.environ[\"AZURE_SEARCH_ENDPOINT\"],\n",
    "    credential=AzureKeyCredential(os.environ[\"AZURE_SEARCH_KEY\"])\n",
    ")\n",
    "\n",
    "index_schema = search_client.get_index(index_name)\n",
    "\n",
    "# Print Available Fields\n",
    "print([field.name for field in index_schema.fields])"
   ]
  },
  {
   "cell_type": "code",
   "execution_count": null,
   "metadata": {},
   "outputs": [],
   "source": []
  }
 ],
 "metadata": {
  "kernelspec": {
   "display_name": "Python 3",
   "language": "python",
   "name": "python3"
  },
  "language_info": {
   "codemirror_mode": {
    "name": "ipython",
    "version": 3
   },
   "file_extension": ".py",
   "mimetype": "text/x-python",
   "name": "python",
   "nbconvert_exporter": "python",
   "pygments_lexer": "ipython3",
   "version": "3.12.1"
  }
 },
 "nbformat": 4,
 "nbformat_minor": 2
}
